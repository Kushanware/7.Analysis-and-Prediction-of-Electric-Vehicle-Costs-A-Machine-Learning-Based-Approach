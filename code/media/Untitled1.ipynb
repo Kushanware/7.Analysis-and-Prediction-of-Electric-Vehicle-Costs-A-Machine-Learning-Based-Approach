{
 "cells": [
  {
   "cell_type": "code",
   "execution_count": null,
   "id": "5e2d712d-e78c-4b2b-8975-836208d9acec",
   "metadata": {},
   "outputs": [],
   "source": []
  }
 ],
 "metadata": {
  "kernelspec": {
   "display_name": "",
   "name": ""
  },
  "language_info": {
   "name": ""
  }
 },
 "nbformat": 4,
 "nbformat_minor": 5
}
